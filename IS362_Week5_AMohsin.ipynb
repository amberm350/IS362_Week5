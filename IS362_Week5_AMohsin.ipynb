{
 "cells": [
  {
   "cell_type": "code",
   "execution_count": 58,
   "id": "2f1f33f0",
   "metadata": {},
   "outputs": [
    {
     "data": {
      "text/plain": [
       "'JFK'"
      ]
     },
     "execution_count": 58,
     "metadata": {},
     "output_type": "execute_result"
    }
   ],
   "source": [
    "import pandas as pd\n",
    "\n",
    "airports = pd.read_csv('https://raw.githubusercontent.com/tidyverse/nycflights13/main/data-raw/airports.csv')\n",
    "\n",
    "\n",
    "\n",
    "weather = pd.read_csv('https://raw.githubusercontent.com/tidyverse/nycflights13/main/data-raw/weather.csv')\n",
    "\n",
    "weather\n",
    "y = weather['wind_speed'].sort_values(ascending = False)\n",
    "y\n",
    "\n",
    "weather['origin']\n",
    "weather['origin'].loc[weather.index[9425]]\n",
    "\n",
    "\n",
    "#Northwest Angle Airport is the northernmost airport in the United States\n",
    "#Lubec Municipal Airport is the easternmost airport in the United States\n",
    "#On February 12th, 2013, the New York area airport that had the windiest weather was JFK airport\n",
    "\n"
   ]
  },
  {
   "cell_type": "code",
   "execution_count": null,
   "id": "dcf285b0",
   "metadata": {},
   "outputs": [],
   "source": []
  },
  {
   "cell_type": "code",
   "execution_count": null,
   "id": "e4c93bc8",
   "metadata": {},
   "outputs": [],
   "source": []
  }
 ],
 "metadata": {
  "kernelspec": {
   "display_name": "Python 3 (ipykernel)",
   "language": "python",
   "name": "python3"
  },
  "language_info": {
   "codemirror_mode": {
    "name": "ipython",
    "version": 3
   },
   "file_extension": ".py",
   "mimetype": "text/x-python",
   "name": "python",
   "nbconvert_exporter": "python",
   "pygments_lexer": "ipython3",
   "version": "3.9.12"
  }
 },
 "nbformat": 4,
 "nbformat_minor": 5
}
